{
 "cells": [
  {
   "cell_type": "code",
   "execution_count": 1,
   "metadata": {},
   "outputs": [],
   "source": [
    "# external imports\n",
    "import music21 as m21\n",
    "import ast\n",
    "import os"
   ]
  },
  {
   "cell_type": "code",
   "execution_count": 2,
   "metadata": {
    "code_folding": [
     3,
     20,
     41
    ]
   },
   "outputs": [],
   "source": [
    "# internal\n",
    "from src.midi import *"
   ]
  },
  {
   "cell_type": "markdown",
   "metadata": {},
   "source": [
    "# Encoding and Read-in"
   ]
  },
  {
   "cell_type": "code",
   "execution_count": 3,
   "metadata": {},
   "outputs": [],
   "source": [
    "# Read in all of the midi files\n",
    "path = './data/sample'\n",
    "mdl = gen_md_from_path(path, by_measure=False, verbose=False)\n",
    "mdm = gen_md_from_path(path, by_measure=True, verbose=False)"
   ]
  },
  {
   "cell_type": "code",
   "execution_count": 4,
   "metadata": {},
   "outputs": [],
   "source": [
    "# sample encoding\n",
    "me = MidiEncoder()\n",
    "mw = MidiWriter()\n",
    "samp = me.Encode(mdl['wtc1021'].flat, 'pitch_position_duration_strings')"
   ]
  },
  {
   "cell_type": "code",
   "execution_count": 5,
   "metadata": {
    "scrolled": true
   },
   "outputs": [],
   "source": [
    "test = mw.Write(samp, 'pitch_position_duration_strings', 'test.mid')"
   ]
  },
  {
   "cell_type": "code",
   "execution_count": 2,
   "metadata": {},
   "outputs": [
    {
     "ename": "NameError",
     "evalue": "name 'MidiEncoder' is not defined",
     "output_type": "error",
     "traceback": [
      "\u001b[1;31m---------------------------------------------------------------------------\u001b[0m",
      "\u001b[1;31mNameError\u001b[0m                                 Traceback (most recent call last)",
      "\u001b[1;32m<ipython-input-2-fcc720f7a20f>\u001b[0m in \u001b[0;36m<module>\u001b[1;34m\u001b[0m\n\u001b[0;32m      1\u001b[0m \u001b[1;31m# Encode them (as entire piece)\u001b[0m\u001b[1;33m\u001b[0m\u001b[1;33m\u001b[0m\u001b[1;33m\u001b[0m\u001b[0m\n\u001b[1;32m----> 2\u001b[1;33m \u001b[0mme\u001b[0m \u001b[1;33m=\u001b[0m \u001b[0mMidiEncoder\u001b[0m\u001b[1;33m(\u001b[0m\u001b[1;33m)\u001b[0m\u001b[1;33m\u001b[0m\u001b[1;33m\u001b[0m\u001b[0m\n\u001b[0m\u001b[0;32m      3\u001b[0m \u001b[0mmdl_enc\u001b[0m \u001b[1;33m=\u001b[0m \u001b[1;33m{\u001b[0m\u001b[1;33m}\u001b[0m\u001b[1;33m\u001b[0m\u001b[1;33m\u001b[0m\u001b[0m\n\u001b[0;32m      4\u001b[0m \u001b[1;32mfor\u001b[0m \u001b[0mpiece\u001b[0m \u001b[1;32min\u001b[0m \u001b[0mmdl\u001b[0m\u001b[1;33m:\u001b[0m\u001b[1;33m\u001b[0m\u001b[1;33m\u001b[0m\u001b[0m\n\u001b[0;32m      5\u001b[0m     \u001b[0mmdl_enc\u001b[0m\u001b[1;33m[\u001b[0m\u001b[0mpiece\u001b[0m\u001b[1;33m]\u001b[0m \u001b[1;33m=\u001b[0m \u001b[0mme\u001b[0m\u001b[1;33m.\u001b[0m\u001b[0mEncode\u001b[0m\u001b[1;33m(\u001b[0m\u001b[0mmdl\u001b[0m\u001b[1;33m[\u001b[0m\u001b[0mpiece\u001b[0m\u001b[1;33m]\u001b[0m\u001b[1;33m.\u001b[0m\u001b[0mflat\u001b[0m\u001b[1;33m,\u001b[0m \u001b[1;34m'pitch_position_duration_strings'\u001b[0m\u001b[1;33m)\u001b[0m\u001b[1;33m\u001b[0m\u001b[1;33m\u001b[0m\u001b[0m\n",
      "\u001b[1;31mNameError\u001b[0m: name 'MidiEncoder' is not defined"
     ]
    }
   ],
   "source": [
    "# Encode them (as entire piece)\n",
    "me = MidiEncoder()\n",
    "mdl_enc = {}\n",
    "for piece in mdl:\n",
    "    mdl_enc[piece] = me.Encode(mdl[piece].flat, 'pitch_position_duration_strings')"
   ]
  },
  {
   "cell_type": "code",
   "execution_count": 5,
   "metadata": {},
   "outputs": [],
   "source": [
    "# Encode them (by measure)\n",
    "me = MidiEncoder()\n",
    "mdm_enc = {}\n",
    "for piece in mdm:\n",
    "    mdm_enc[piece] = {}\n",
    "    for i, m in enumerate(mdm[piece]):\n",
    "        mdm_enc[piece][i] = me.Encode(m, 'pitch_position_duration_strings')"
   ]
  },
  {
   "cell_type": "code",
   "execution_count": 6,
   "metadata": {},
   "outputs": [
    {
     "name": "stdout",
     "output_type": "stream",
     "text": [
      "12258 / 14921\n"
     ]
    }
   ],
   "source": [
    "# Vocab Sizes\n",
    "un = []; count = 0;\n",
    "for piece in mdl_enc:\n",
    "    for token in mdl_enc[piece]:\n",
    "        count += 1\n",
    "        if token not in un:\n",
    "            un.append(token)\n",
    "print(f\"{len(un)} / {count}\")"
   ]
  },
  {
   "cell_type": "code",
   "execution_count": 7,
   "metadata": {},
   "outputs": [
    {
     "name": "stdout",
     "output_type": "stream",
     "text": [
      "2762 / 14921\n"
     ]
    }
   ],
   "source": [
    "# Vocab Sizes\n",
    "un = []; count = 0;\n",
    "for piece in mdm_enc:\n",
    "    for meas in mdm_enc[piece]:\n",
    "        for token in mdm_enc[piece][meas]:\n",
    "            count += 1\n",
    "            if token not in un:\n",
    "                un.append(token)\n",
    "print(f\"{len(un)} / {count}\")"
   ]
  },
  {
   "cell_type": "markdown",
   "metadata": {},
   "source": [
    "# Modeling"
   ]
  },
  {
   "cell_type": "code",
   "execution_count": null,
   "metadata": {},
   "outputs": [],
   "source": []
  }
 ],
 "metadata": {
  "kernelspec": {
   "display_name": "pyotr_env_v1",
   "language": "python",
   "name": "pyotr_env_v1"
  },
  "language_info": {
   "codemirror_mode": {
    "name": "ipython",
    "version": 3
   },
   "file_extension": ".py",
   "mimetype": "text/x-python",
   "name": "python",
   "nbconvert_exporter": "python",
   "pygments_lexer": "ipython3",
   "version": "3.7.9"
  }
 },
 "nbformat": 4,
 "nbformat_minor": 2
}
