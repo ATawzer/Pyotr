{
 "cells": [
  {
   "cell_type": "code",
   "execution_count": 1,
   "metadata": {},
   "outputs": [],
   "source": [
    "# external imports\n",
    "import music21 as m21\n",
    "import ast\n",
    "import os"
   ]
  },
  {
   "cell_type": "code",
   "execution_count": 10,
   "metadata": {},
   "outputs": [
    {
     "data": {
      "text/plain": [
       "<module 'src.train' from 'D:\\\\Documents\\\\GitHub\\\\Pyotr\\\\src\\\\train.py'>"
      ]
     },
     "execution_count": 10,
     "metadata": {},
     "output_type": "execute_result"
    }
   ],
   "source": [
    "# reload cell\n",
    "from src.midi import *\n",
    "from src.train import *\n",
    "import sys, importlib\n",
    "importlib.reload(sys.modules['src.midi'])\n",
    "importlib.reload(sys.modules['src.train'])"
   ]
  },
  {
   "cell_type": "markdown",
   "metadata": {},
   "source": [
    "# Encoding and Read-in"
   ]
  },
  {
   "cell_type": "code",
   "execution_count": 3,
   "metadata": {},
   "outputs": [],
   "source": [
    "# Read in all of the midi files\n",
    "path = './data/sample'\n",
    "mdl = gen_md_from_path(path, by_measure=False, verbose=False)\n",
    "mdm = gen_md_from_path(path, by_measure=True, verbose=False)"
   ]
  },
  {
   "cell_type": "code",
   "execution_count": 4,
   "metadata": {},
   "outputs": [],
   "source": [
    "# Encode them (as entire piece)\n",
    "me = MidiEncoder()\n",
    "mdl_enc = {}\n",
    "for piece in mdl:\n",
    "    mdl_enc[piece] = me.Encode(mdl[piece].flat, 'pitch_position_duration_strings')"
   ]
  },
  {
   "cell_type": "code",
   "execution_count": 5,
   "metadata": {},
   "outputs": [],
   "source": [
    "# Encode them (by measure)\n",
    "me = MidiEncoder()\n",
    "mdm_enc = {}\n",
    "for piece in mdm:\n",
    "    mdm_enc[piece] = {}\n",
    "    for i, m in enumerate(mdm[piece]):\n",
    "        mdm_enc[piece][i] = me.Encode(m, 'pitch_position_duration_strings')"
   ]
  },
  {
   "cell_type": "code",
   "execution_count": 6,
   "metadata": {},
   "outputs": [
    {
     "name": "stdout",
     "output_type": "stream",
     "text": [
      "12258 / 14921\n"
     ]
    }
   ],
   "source": [
    "# Vocab Sizes\n",
    "un = []; count = 0;\n",
    "for piece in mdl_enc:\n",
    "    for token in mdl_enc[piece]:\n",
    "        count += 1\n",
    "        if token not in un:\n",
    "            un.append(token)\n",
    "print(f\"{len(un)} / {count}\")"
   ]
  },
  {
   "cell_type": "code",
   "execution_count": 7,
   "metadata": {},
   "outputs": [
    {
     "name": "stdout",
     "output_type": "stream",
     "text": [
      "2762 / 14921\n"
     ]
    }
   ],
   "source": [
    "# Vocab Sizes\n",
    "un = []; count = 0;\n",
    "for piece in mdm_enc:\n",
    "    for meas in mdm_enc[piece]:\n",
    "        for token in mdm_enc[piece][meas]:\n",
    "            count += 1\n",
    "            if token not in un:\n",
    "                un.append(token)\n",
    "print(f\"{len(un)} / {count}\")"
   ]
  },
  {
   "cell_type": "markdown",
   "metadata": {},
   "source": [
    "# Pre-processing"
   ]
  },
  {
   "cell_type": "code",
   "execution_count": 13,
   "metadata": {},
   "outputs": [],
   "source": [
    "tsg = TrainingSetBuilder(mdm_enc, by_measure=True, num_notes=32)\n",
    "train_df = tsg.Build('next_note')"
   ]
  },
  {
   "cell_type": "code",
   "execution_count": 16,
   "metadata": {},
   "outputs": [
    {
     "data": {
      "text/plain": [
       "array(['B3:0.0:2.0', 'D4:0.25:1.75', 'G4:0.5:0.25', ..., 'G3:0.0:1.0',\n",
       "       'E3:0.0:1.0', 'C3:0.0:1.0'], dtype=object)"
      ]
     },
     "execution_count": 16,
     "metadata": {},
     "output_type": "execute_result"
    }
   ],
   "source": [
    "train_df[train_df.columns[-1]].values"
   ]
  },
  {
   "cell_type": "markdown",
   "metadata": {},
   "source": [
    "# Modeling"
   ]
  },
  {
   "cell_type": "code",
   "execution_count": null,
   "metadata": {},
   "outputs": [],
   "source": []
  }
 ],
 "metadata": {
  "kernelspec": {
   "display_name": "pyotr_env_v1",
   "language": "python",
   "name": "pyotr_env_v1"
  },
  "language_info": {
   "codemirror_mode": {
    "name": "ipython",
    "version": 3
   },
   "file_extension": ".py",
   "mimetype": "text/x-python",
   "name": "python",
   "nbconvert_exporter": "python",
   "pygments_lexer": "ipython3",
   "version": "3.7.9"
  }
 },
 "nbformat": 4,
 "nbformat_minor": 2
}
