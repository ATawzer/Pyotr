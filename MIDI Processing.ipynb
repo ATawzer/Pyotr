{
 "cells": [
  {
   "cell_type": "code",
   "execution_count": 1,
   "metadata": {},
   "outputs": [],
   "source": [
    "import music21 as m21\n",
    "import ast\n",
    "import os"
   ]
  },
  {
   "cell_type": "code",
   "execution_count": null,
   "metadata": {},
   "outputs": [],
   "source": [
    "!pip install music21"
   ]
  },
  {
   "cell_type": "markdown",
   "metadata": {},
   "source": [
    "# Future Scripts and Functions"
   ]
  },
  {
   "cell_type": "code",
   "execution_count": 23,
   "metadata": {
    "code_folding": [
     3,
     20,
     41
    ]
   },
   "outputs": [],
   "source": [
    "# midi.py\n",
    "\n",
    "# helper functions\n",
    "def gen_md_from_path(mdir, **kwargs):\n",
    "     \n",
    "    mdict = {}\n",
    "    if mdir is None:\n",
    "        print(\"No Directory Specified.\")\n",
    "    for filename in os.listdir(mdir):\n",
    "        if filename.endswith(\".mid\"):\n",
    "            mdict[filename[:-4]] = {}\n",
    "            mdict[filename[:-4]] = process_midi_file(mdir+'/'+filename, **kwargs)\n",
    "        else:\n",
    "            continue \n",
    "        \n",
    "    return mdict\n",
    "            \n",
    "def null_func(*k):\n",
    "    return None\n",
    "\n",
    "def process_midi_file(path, transpose=True, by_measure=True, verbose=True):\n",
    "    \n",
    "    vprint = print if verbose else null_func\n",
    "    # read-in\n",
    "    mid = m21.converter.parse(path)\n",
    "    vprint(f\"File Read in: {path[7:]}\")\n",
    "    \n",
    "    # Make measures\n",
    "    if by_measure:\n",
    "        mid = m21.stream.makeNotation.makeMeasures(mid)\n",
    "        vprint(f\"Number of Measures: {len(mid)}\")\n",
    "    \n",
    "    # Transpose\n",
    "    if transpose:\n",
    "        key = mid.analyze('key').tonic\n",
    "        vprint(f\"Detected Key: {key}\")\n",
    "        mid = mid.transpose(m21.interval.Interval(key, m21.pitch.Pitch('C')))\n",
    "    \n",
    "    return mid\n",
    "\n",
    "# encoding\n",
    "class MidiEncoder:\n",
    "    \n",
    "    def __init__(self):\n",
    " \n",
    "        # function map\n",
    "        self.method_map = {\n",
    "            'pitch_position_strings':self.pitch_position_strings,\n",
    "            'pitch_position_duration_strings':self.pitch_position_duration_strings\n",
    "        }\n",
    "    \n",
    "    # Core functions, encoding and decoding\n",
    "    def Encode(self, midi, enc_type='pitch_position_strings'):\n",
    "        \n",
    "        if enc_type in self.method_map.keys():\n",
    "            return self.method_map[enc_type](midi, enc=True)\n",
    "        else:\n",
    "            print(\"Encoding not supported, check spelling or try a different method.\")\n",
    "    \n",
    "    def pitch_position_strings(self, midi, enc):\n",
    "        \n",
    "        encoded_string = []\n",
    "        for n in midi.notes:\n",
    "            if type(n) == m21.note.Note:\n",
    "                encoded_string.append(str(n.pitch) + ':'+ str(n.offset))\n",
    "            elif type(n) == m21.chord.Chord:\n",
    "                for i in range(0, len(n)):\n",
    "                    encoded_string.append(str(n[i].pitch) + ':'+ str(n[i].offset)) \n",
    "            else:\n",
    "                print(\"No Notes Detected.\")\n",
    "        return encoded_string\n",
    "\n",
    "        \n",
    "    def pitch_position_duration_strings(self, midi, enc):\n",
    "    \n",
    "        encoded_string = []\n",
    "        for n in midi.notes:\n",
    "            if type(n) == m21.note.Note:\n",
    "                encoded_string.append(str(n.pitch) + ':'+ str(n.offset)+':'+str(n.duration.quarterLength))\n",
    "            elif type(n) == m21.chord.Chord:\n",
    "                for i in range(0, len(n)):\n",
    "                    encoded_string.append(str(n[i].pitch) + ':'+ str(n[i].offset)+':'+str(n[i].duration.quarterLength)) \n",
    "            else:\n",
    "                print(\"No Notes Detected.\")\n",
    "        return encoded_string\n",
    "\n",
    "# writing\n",
    "class MidiWriter:\n",
    "    \n",
    "    def __init__(self, enc_mid, enc_type):\n",
    "        \n",
    "        # function map\n",
    "        self.method_map = {\n",
    "            'pitch_position_strings':self.pitch_position_strings,\n",
    "            'pitch_position_duration_strings':self.pitch_position_duration_strings\n",
    "        }"
   ]
  },
  {
   "cell_type": "markdown",
   "metadata": {},
   "source": [
    "# Encoding and Read-in"
   ]
  },
  {
   "cell_type": "code",
   "execution_count": 64,
   "metadata": {},
   "outputs": [],
   "source": [
    "# Read in all of the midi files\n",
    "path = './data'\n",
    "mdl = gen_md_from_path(path, by_measure=False, verbose=False)\n",
    "mdm = gen_md_from_path(path, by_measure=True, verbose=False)"
   ]
  },
  {
   "cell_type": "code",
   "execution_count": 65,
   "metadata": {},
   "outputs": [],
   "source": [
    "# Encode them (as entire piece)\n",
    "me = MidiEncoder()\n",
    "mdl_enc = {}\n",
    "for piece in mdl:\n",
    "    mdl_enc[piece] = me.Encode(mdl[piece].flat, 'pitch_position_duration_strings')"
   ]
  },
  {
   "cell_type": "code",
   "execution_count": 66,
   "metadata": {},
   "outputs": [],
   "source": [
    "# Encode them (by measure)\n",
    "me = MidiEncoder()\n",
    "mdm_enc = {}\n",
    "for piece in mdm:\n",
    "    mdm_enc[piece] = {}\n",
    "    for i, m in enumerate(mdm[piece]):\n",
    "        mdm_enc[piece][i] = me.Encode(m, 'pitch_position_duration_strings')"
   ]
  },
  {
   "cell_type": "code",
   "execution_count": 67,
   "metadata": {},
   "outputs": [
    {
     "name": "stdout",
     "output_type": "stream",
     "text": [
      "12550 / 14921\n"
     ]
    }
   ],
   "source": [
    "# Vocab Sizes\n",
    "un = []; count = 0;\n",
    "for piece in mdl_enc:\n",
    "    for token in mdl_enc[piece]:\n",
    "        count += 1\n",
    "        if token not in un:\n",
    "            un.append(token)\n",
    "print(f\"{len(un)} / {count}\")"
   ]
  },
  {
   "cell_type": "code",
   "execution_count": 68,
   "metadata": {},
   "outputs": [
    {
     "name": "stdout",
     "output_type": "stream",
     "text": [
      "3307 / 14921\n"
     ]
    }
   ],
   "source": [
    "# Vocab Sizes\n",
    "un = []; count = 0;\n",
    "for piece in mdm_enc:\n",
    "    for meas in mdm_enc[piece]:\n",
    "        for token in mdm_enc[piece][meas]:\n",
    "            count += 1\n",
    "            if token not in un:\n",
    "                un.append(token)\n",
    "print(f\"{len(un)} / {count}\")"
   ]
  },
  {
   "cell_type": "markdown",
   "metadata": {},
   "source": [
    "# Modeling"
   ]
  },
  {
   "cell_type": "code",
   "execution_count": null,
   "metadata": {},
   "outputs": [],
   "source": []
  }
 ],
 "metadata": {
  "kernelspec": {
   "display_name": "pyotr_env",
   "language": "python",
   "name": "pyotr_env"
  },
  "language_info": {
   "codemirror_mode": {
    "name": "ipython",
    "version": 3
   },
   "file_extension": ".py",
   "mimetype": "text/x-python",
   "name": "python",
   "nbconvert_exporter": "python",
   "pygments_lexer": "ipython3",
   "version": "3.7.3"
  }
 },
 "nbformat": 4,
 "nbformat_minor": 2
}
